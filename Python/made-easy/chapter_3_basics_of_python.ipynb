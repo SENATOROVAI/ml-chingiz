{
 "cells": [
  {
   "cell_type": "code",
   "execution_count": 1,
   "metadata": {},
   "outputs": [
    {
     "data": {
      "text/plain": [
       "'Chapter 3 Python Basics.'"
      ]
     },
     "execution_count": 1,
     "metadata": {},
     "output_type": "execute_result"
    }
   ],
   "source": [
    "\"\"\"Chapter 3 Python Basics.\"\"\""
   ]
  },
  {
   "cell_type": "markdown",
   "metadata": {},
   "source": [
    "## Python "
   ]
  },
  {
   "cell_type": "markdown",
   "metadata": {},
   "source": [
    "### **| Numbers |**"
   ]
  },
  {
   "cell_type": "markdown",
   "metadata": {},
   "source": [
    "* Lets start to learn computer programming with \"Hello world!\". \n",
    "* Simply write down `print(\"Hello World ! \")` in a new cell. "
   ]
  },
  {
   "cell_type": "markdown",
   "metadata": {},
   "source": [
    "* Let's move on and try to write some commands and see the result.\n",
    "* The Python interpreter can be used as a simple calculator"
   ]
  },
  {
   "cell_type": "markdown",
   "metadata": {},
   "source": [
    "* print(\"Result of 2 + 2 is:\", 2 + 2)\n",
    "* print(\"Result of 50-5*6 is:\", 50 - 5 * 6)\n",
    "* print(\"Result of 8/5 is:\", 8 / 5)"
   ]
  },
  {
   "cell_type": "markdown",
   "metadata": {},
   "source": [
    "* Integers are - `int` type.\n",
    "* Numbers with a fractional part have a `float` type. \n",
    "* **The division operator / always returns float.**"
   ]
  },
  {
   "cell_type": "markdown",
   "metadata": {},
   "source": [
    "* print(\"Result of 17 // 3 is: \", 17 // 3)  # integer division\n",
    "* print(\"Result of 17 % 3 is: \", 17 % 3)  # the remainder of the division\n",
    "* print(\"Result of 5 ** 2 is: \", 5**2)  #  ** operator to calculate the degree."
   ]
  },
  {
   "cell_type": "markdown",
   "metadata": {},
   "source": [
    "**The equal sign `=` is used to assign a value to a variable.**"
   ]
  },
  {
   "cell_type": "markdown",
   "metadata": {},
   "source": [
    "* width = 20\n",
    "* height = 5 * 8\n",
    "* my_name = \"Chyngyz\""
   ]
  },
  {
   "cell_type": "markdown",
   "metadata": {},
   "source": [
    "### **| Strings |**"
   ]
  },
  {
   "cell_type": "markdown",
   "metadata": {},
   "source": [
    "* Python can work with strings which can be set in a few ways. `'....'` or `\"....\"` will print same result.\n",
    "* A string is enclosed in double quotes if it contains single quotes and does not contain double quotes\n",
    "* Otherwise the string is enclosed in single quotes\n"
   ]
  },
  {
   "cell_type": "code",
   "execution_count": 2,
   "metadata": {},
   "outputs": [],
   "source": [
    "# print(\"'Isn't', they said\")\n",
    "# print(\"C :\\\\some\\name \")  # here \\n is a transition to a new line!\n",
    "# print(r\"C: \\some\\name \")  # r before the opening quotation mark"
   ]
  },
  {
   "cell_type": "markdown",
   "metadata": {},
   "source": [
    "* Strings can be combined.\n",
    "* The `+` operator **adds up**, and the operator `*` **multiplies**."
   ]
  },
  {
   "cell_type": "code",
   "execution_count": 3,
   "metadata": {},
   "outputs": [],
   "source": [
    "# print(\"a\" + \"b\")\n",
    "# print(\"t\" * 5)\n",
    "# print(\"no\" * 3 + \"dip\")"
   ]
  },
  {
   "cell_type": "markdown",
   "metadata": {},
   "source": [
    "* Two strings that are located next to each other, are automatically combined.\n",
    "* This is especially useful if you need to split long strings."
   ]
  },
  {
   "cell_type": "code",
   "execution_count": 4,
   "metadata": {},
   "outputs": [],
   "source": [
    "# text = \" Put several strings within parentheses -\" \"\n",
    "# - to have them joined together. \"\n",
    "# text"
   ]
  },
  {
   "cell_type": "markdown",
   "metadata": {},
   "source": [
    "### **| Indexing |**"
   ]
  },
  {
   "cell_type": "markdown",
   "metadata": {},
   "source": [
    "* Strings can be indexed (access the elements of the string by index).\n",
    "* Index of first element is `0`."
   ]
  },
  {
   "cell_type": "code",
   "execution_count": 5,
   "metadata": {},
   "outputs": [],
   "source": [
    "# word = \"Python\"\n",
    "# print(word[0])\n",
    "# print(word[1])\n",
    "# print(word[2])\n",
    "# print(word[3])\n",
    "# print(word[4])\n",
    "# print(word[5])\n",
    "#\n",
    "#\n",
    "# print(word[-4])  # For negative indices, the countdown is on the right"
   ]
  },
  {
   "cell_type": "markdown",
   "metadata": {},
   "source": [
    "### **| Slicing |**"
   ]
  },
  {
   "cell_type": "markdown",
   "metadata": {},
   "source": [
    "The slice returns a substring. Note that the initial index is always included, and the final one is always excluded."
   ]
  },
  {
   "cell_type": "code",
   "execution_count": 6,
   "metadata": {},
   "outputs": [],
   "source": [
    "# print(word[:2] + word[2:])"
   ]
  },
  {
   "cell_type": "markdown",
   "metadata": {},
   "source": [
    "Python strings cannot be changed - they are immutable. Therefore, it is not possible to assign a new value to a symbol by a specific index."
   ]
  },
  {
   "cell_type": "code",
   "execution_count": 7,
   "metadata": {},
   "outputs": [],
   "source": [
    "# print(len(word))  #  function len returns string's length"
   ]
  },
  {
   "cell_type": "markdown",
   "metadata": {},
   "source": [
    "## Python Code Syntax\n",
    "### **| Expressions |**"
   ]
  },
  {
   "cell_type": "markdown",
   "metadata": {},
   "source": [
    "* The strings written in the source code for execution are called `expressions.`\n",
    "\n",
    "* For example, n = 20 is an expression with an assignment operator.\n",
    "\n",
    "* Multiline extensions can be transferred to other lines using parentheses"
   ]
  },
  {
   "cell_type": "code",
   "execution_count": 8,
   "metadata": {},
   "outputs": [],
   "source": [
    "# moving an expression to a new line using \\\n",
    "# s = 1 + 2 + 3 + 4 + 5 + 6 + 7 + 8 + 9\n",
    "# print(s)\n",
    "\n",
    "# moving an expression to a new line using ()\n",
    "# n = 1 * 2 * 3 + 7 + 8 + 9\n",
    "# print(n)\n",
    "\n",
    "# moving an expression to a new line using []\n",
    "# footballer = [\"Messi\", \"Neymar\", \"Suarez\"]\n",
    "# print(footballer)\n",
    "\n",
    "# moving an expression to a new line using {}\n",
    "# x = {1 + 2 + 3 + 4 + 5 + 6 + 7 + 8 + 9}"
   ]
  },
  {
   "cell_type": "code",
   "execution_count": 9,
   "metadata": {},
   "outputs": [],
   "source": [
    "# You can also end an expression with a semicolon (;)\n",
    "# flag = 2\n",
    "# ropes = 3\n",
    "# pole = 4\n",
    "#\n",
    "# print(flag, ropes, pole)"
   ]
  },
  {
   "cell_type": "markdown",
   "metadata": {},
   "source": [
    "* For variables, you should choose names with meaning that say something about the stored data.\n",
    "\n",
    "* Variables could be any length and contain letters and numbers.\n",
    "\n",
    "* Python is case sensitive, so be careful. Same name with different case are different.\n",
    "\n",
    "\n",
    "* **Here are some rules for variable naming:**\n",
    "\n",
    "1. Variable name should start with letter!\n",
    "2. You can't use space!\n",
    "3. For long names you can use the underscore character (_)!\n",
    "4. Python keywords cannot be used as variable names:\n",
    "\n",
    "\n",
    "* `and`      `def`    `exec`     `if`      `not`   `return`\n",
    "* `assert`   `del`    `finally`  `import`  `or`    `try`\n",
    "* `break`    `elif`   `for`      `in`      `pass`  `while`\n",
    "* `class`    `else`   `from`     `is`      `print` `yield`\n",
    "* `continue` `except` `global`   `lambda`  `raise`"
   ]
  },
  {
   "cell_type": "markdown",
   "metadata": {},
   "source": [
    "### **| First steps |**"
   ]
  },
  {
   "cell_type": "markdown",
   "metadata": {},
   "source": [
    "We can use Python for more complex tasks, Let's try to calculate the beginning of the Fibonacci series\n",
    "as follows:"
   ]
  },
  {
   "cell_type": "markdown",
   "metadata": {},
   "source": [
    "* a: int = 0\n",
    "* b: int = 1\n",
    "* while a < 10:\n",
    "    * print(a)\n",
    "    * a, b = b, a + b\n",
    "    \n",
    "* 0\n",
    "* 1\n",
    "* 1\n",
    "* 2\n",
    "* 3\n",
    "* 5\n",
    "* 8"
   ]
  },
  {
   "cell_type": "markdown",
   "metadata": {},
   "source": [
    "Let's experiment with this simple code. First, let's change the way variables a and b are assigned."
   ]
  },
  {
   "cell_type": "markdown",
   "metadata": {},
   "source": [
    "* a, b = 0, 1\n",
    "* while a < 15:\n",
    "    * print(a)\n",
    "    * a, b = b, a + b\n",
    "    \n",
    "    \n",
    "    \n",
    "* 0\n",
    "* 1\n",
    "* 1\n",
    "* 2\n",
    "* 3\n",
    "* 5\n",
    "* 8\n",
    "* 13"
   ]
  },
  {
   "cell_type": "markdown",
   "metadata": {},
   "source": [
    "* Let's look at a couple important concepts using print() function as example.\n",
    "\n",
    "* The actual syntax of the print() function looks like this:\n",
    "\n",
    "* **`print ( *objects, sep= ' ', end= ' \\n', file=sys.stdout, flush=False)`**\n",
    "\n",
    "* Using this syntax as an example, let's look at `two more important concepts` of programming in Python:\n",
    "\n",
    "    1. Arguments (args).\n",
    "    2. Named arguments (kwargs).\n",
    "\n"
   ]
  },
  {
   "cell_type": "markdown",
   "metadata": {},
   "source": [
    "#### Arguments\n",
    "\n",
    "Arguments are all that we give to the function. \n",
    "If you want to pass more than one variable to a function when defining it, but don't know yet exactly how many arguments you will have, you can specify a special syntax *args. The * symbol here means that we can pass any number of variables to the function, and the word `args` is a kind of standard convention that is used for better code readability. You can use any other layer, if it is significant enough. As you can see, the syntax of the print() function uses the word *objects instead of *args."
   ]
  },
  {
   "cell_type": "markdown",
   "metadata": {},
   "source": [
    "#### Named arguments\n",
    "\n",
    "Named arguments are arguments for which, when passed to a function, not only the value is specified, but also the name.\n",
    "\n",
    "Let's take an example of print() function:\n",
    "\n",
    "* `*objects` - any number of any objects. Before output all objects are assembled into a string.\n",
    "* `sep = ' ' (optional)` - sets the object separator, if there are several of them. Default value - 'space sign'\n",
    "* `end = '\\n' (optional)` - defines what to output at the end of string. Default value - '\\n' - line break sign\n",
    "* `file = sys.stdout` (optional) - an object with the write (string) method. If this parameter is not specified, `sys.stdout` will be used by default, which means\n",
    "that the results are displayed on the screen.\n",
    "* `flush=False (optional)` - a boolean value indicating whether the output will be cleared or buffered (False). `The default value is False.`\n",
    "\n"
   ]
  },
  {
   "cell_type": "code",
   "execution_count": 10,
   "metadata": {},
   "outputs": [],
   "source": [
    "# Little tricks, what you can do with print function\n",
    "\n",
    "# name = \"Chyngyz\"\n",
    "# last_name = \"Mirzamatov\"\n",
    "# place = \"Chicago\"\n",
    "#\n",
    "# print(\"{} {} lives in {}\".format(name, last_name, place))"
   ]
  },
  {
   "cell_type": "markdown",
   "metadata": {},
   "source": [
    "### Finding errors\n",
    "\n",
    "We have to resort to error detection in cases, our code does not give the desired\n",
    "result or does not output anything at all.\n",
    "\n",
    "There are three types of errors that occur often. \n",
    "\n",
    "* Syntax error - problems with language constructions.\n",
    "* Runtime error - problems with code execution.\n",
    "* Semantic error - is an unexpected result"
   ]
  },
  {
   "cell_type": "markdown",
   "metadata": {},
   "source": [
    "##### Syntax errors\n",
    "\n",
    "The error occurs when you write code without following the Python syntax.\n",
    "\n",
    "`SyntaxError : invalid syntax `\n",
    "\n",
    "##### Runtime error \n",
    "\n",
    "Runtime errors occur while the program is running. Because Python is an interpreted language, such errors occur only at the moment when the execution of the program reaches an erroneous line.\n",
    "\n",
    "The common reasons for such errors are as follows:\n",
    "\n",
    " * The name of a variable or function entered incorrectly; \n",
    " * Using a variable before defining it; \n",
    " * The name should have been enclosed in quotation marks; \n",
    " * Division by zero.\n",
    "\n",
    "`ZeroDivisionError : division Ьу zero `\n",
    "\n",
    "\n",
    "A runtime error occurs when Python understands the command itself, but encounters problems when executing it. That's why this error is called \"runtime\", because it occurs only after the program is started.\n",
    "\n",
    "\n",
    "##### Semantic error\n",
    "\n",
    "\n",
    "Semantic or logical errors are problems with the very construction of your program. Usually such problems do not cause error messages, but the behavior of the program turns out to be incorrect\n",
    "\n",
    "`Semantic errors are the most difficult to eliminate.`\n"
   ]
  },
  {
   "cell_type": "markdown",
   "metadata": {},
   "source": [
    "#### Exercises\n",
    "\n",
    "\n",
    "##### Answer the questions:\n",
    "\n",
    "1. Questions:\n",
    "* ' + '- add operator\n",
    "* ' - ' - sub operator\n",
    "* ' * ' - multiply operator\n",
    "* ' : ' - division operator\n",
    "\n",
    "2. \" ** \" operator to calculate the degree, \" * \" multiply operator\n",
    "\n",
    "3. The strings written in the source code for execution are called `expressions.`\n",
    "\n",
    "4. Variables are used to store data. To assign variable we can use operator ' = '\n",
    "\n",
    "5. We can't name variable as 'import' because this Python keywords.\n",
    "\n",
    "6. Python is case sensitive, so only math is correct option.\n",
    "\n",
    "7. You can use brackets to group expressions\n",
    "\n",
    "8.  When you write code without following the Python syntax is syntax error. Semantic error - behavior of the program is incorrect.\n",
    "\n",
    "9. Default values for: sep - space sign, end - line break sign.\n",
    "\n",
    "\n",
    "##### False or True\n",
    "\n",
    "1. False\n",
    "2. True\n",
    "3. True\n",
    "4. False\n",
    "5. False\n",
    "6. False\n",
    "7. False\n",
    "8. True\n",
    "9. False\n",
    "10. True\n"
   ]
  },
  {
   "cell_type": "code",
   "execution_count": 11,
   "metadata": {},
   "outputs": [
    {
     "name": "stdout",
     "output_type": "stream",
     "text": [
      "Daniel Santos\n"
     ]
    }
   ],
   "source": [
    "friends_name: str = \"Daniel\"\n",
    "friends_last_name: str = \"Santos\"\n",
    "\n",
    "print(friends_name + \" \" + friends_last_name)"
   ]
  },
  {
   "cell_type": "code",
   "execution_count": 12,
   "metadata": {},
   "outputs": [
    {
     "name": "stdout",
     "output_type": "stream",
     "text": [
      "Rectangle length is: 184\n"
     ]
    }
   ],
   "source": [
    "l_: int = 23\n",
    "h_: int = 8\n",
    "p_: int = l_ * h_\n",
    "print(\"Rectangle length is:\", p_)"
   ]
  },
  {
   "cell_type": "code",
   "execution_count": 13,
   "metadata": {},
   "outputs": [
    {
     "name": "stdout",
     "output_type": "stream",
     "text": [
      "square of 32 is: 1024 cube of 27 is: 19683\n"
     ]
    }
   ],
   "source": [
    "square: int = 32**2\n",
    "cube: int = 27**3\n",
    "\n",
    "print(\"square of 32 is:\", square, \"cube of 27 is:\", cube)"
   ]
  },
  {
   "cell_type": "code",
   "execution_count": 14,
   "metadata": {},
   "outputs": [
    {
     "data": {
      "text/plain": [
       "True"
      ]
     },
     "execution_count": 14,
     "metadata": {},
     "output_type": "execute_result"
    }
   ],
   "source": [
    "a_: int = 2\n",
    "b_: int = 4\n",
    "(a_ + b_) ** 2 == a_**2 + b_**2 + 2 * a_ * b_"
   ]
  },
  {
   "cell_type": "code",
   "execution_count": 15,
   "metadata": {},
   "outputs": [
    {
     "name": "stdout",
     "output_type": "stream",
     "text": [
      "my name's length is 7\n"
     ]
    }
   ],
   "source": [
    "name_len: str = \"Chyngyz\"\n",
    "\n",
    "print(\"my name's length is\", len(name_len))"
   ]
  },
  {
   "cell_type": "code",
   "execution_count": 16,
   "metadata": {},
   "outputs": [
    {
     "name": "stdout",
     "output_type": "stream",
     "text": [
      "__________\n",
      "|        |\n",
      "|        |\n",
      "|        |\n",
      "|        |\n",
      "|        |\n",
      "|        |\n",
      "|        |\n",
      "----------\n"
     ]
    }
   ],
   "source": [
    "print(\"__________\")\n",
    "print(\"|        |\")\n",
    "print(\"|        |\")\n",
    "print(\"|        |\")\n",
    "print(\"|        |\")\n",
    "print(\"|        |\")\n",
    "print(\"|        |\")\n",
    "print(\"|        |\")\n",
    "print(\"----------\")"
   ]
  },
  {
   "cell_type": "code",
   "execution_count": 17,
   "metadata": {},
   "outputs": [
    {
     "name": "stdout",
     "output_type": "stream",
     "text": [
      "________\n",
      "|       |\n",
      "|       |\n",
      "|_______|\n",
      "|\n",
      "|\n",
      "|\n"
     ]
    }
   ],
   "source": [
    "print(\"________\")\n",
    "print(\"|       |\")\n",
    "print(\"|       |\")\n",
    "print(\"|_______|\")\n",
    "print(\"|\")\n",
    "print(\"|\")\n",
    "print(\"|\")"
   ]
  },
  {
   "cell_type": "code",
   "execution_count": 18,
   "metadata": {},
   "outputs": [
    {
     "name": "stdout",
     "output_type": "stream",
     "text": [
      "My name is Chyngyz, my age - 23\n"
     ]
    }
   ],
   "source": [
    "Name: str = \"Chyngyz\"\n",
    "Age: int = 23\n",
    "print(f\"My name is {Name}, my age - {Age}\")"
   ]
  },
  {
   "cell_type": "code",
   "execution_count": 19,
   "metadata": {},
   "outputs": [
    {
     "name": "stdout",
     "output_type": "stream",
     "text": [
      "cat 3\n",
      "window 6\n",
      "defenestrate 12\n"
     ]
    }
   ],
   "source": [
    "words = [\"cat\", \"window\", \"defenestrate\"]\n",
    "for w_ in words:\n",
    "    print(w_, len(w_))"
   ]
  },
  {
   "cell_type": "code",
   "execution_count": 20,
   "metadata": {},
   "outputs": [
    {
     "name": "stdout",
     "output_type": "stream",
     "text": [
      "0 , 1 , 1 , 2 , 3 , 5 , 8 , 13 , "
     ]
    }
   ],
   "source": [
    "c_, d_ = 0, 1\n",
    "while c_ < 15:\n",
    "    print(c_, end=\" , \")\n",
    "    c_, d_ = d_, c_ + d_"
   ]
  }
 ],
 "metadata": {
  "kernelspec": {
   "display_name": "base",
   "language": "python",
   "name": "python3"
  },
  "language_info": {
   "codemirror_mode": {
    "name": "ipython",
    "version": 3
   },
   "file_extension": ".py",
   "mimetype": "text/x-python",
   "name": "python",
   "nbconvert_exporter": "python",
   "pygments_lexer": "ipython3",
   "version": "3.10.9"
  }
 },
 "nbformat": 4,
 "nbformat_minor": 2
}
