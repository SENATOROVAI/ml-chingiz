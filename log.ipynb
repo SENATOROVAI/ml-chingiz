{
 "cells": [
  {
   "cell_type": "code",
   "execution_count": 4,
   "metadata": {},
   "outputs": [
    {
     "data": {
      "text/plain": [
       "'Detailed description of the new knowledge gained on a certain date.'"
      ]
     },
     "execution_count": 4,
     "metadata": {},
     "output_type": "execute_result"
    }
   ],
   "source": [
    "\"\"\"Detailed description of the new knowledge gained on a certain date.\"\"\""
   ]
  },
  {
   "cell_type": "markdown",
   "metadata": {},
   "source": [
    "##### 31.07.2024\n",
    "\n",
    "1. Installed git\n",
    "2. Installed gitDesktop.\n",
    "3. Installed new extensions for VsCode.\n",
    "4. Learned how to use git.\n",
    "5. Set up VsCode.\n",
    "6. Got Contributor status in kaggle.\n",
    "7. Learned how to upload notebook to kaggle.\n"
   ]
  }
 ],
 "metadata": {
  "kernelspec": {
   "display_name": "base",
   "language": "python",
   "name": "python3"
  },
  "language_info": {
   "codemirror_mode": {
    "name": "ipython",
    "version": 3
   },
   "file_extension": ".py",
   "mimetype": "text/x-python",
   "name": "python",
   "nbconvert_exporter": "python",
   "pygments_lexer": "ipython3",
   "version": "3.10.9"
  }
 },
 "nbformat": 4,
 "nbformat_minor": 2
}
